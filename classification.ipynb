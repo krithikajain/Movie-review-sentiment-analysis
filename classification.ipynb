{
  "nbformat": 4,
  "nbformat_minor": 0,
  "metadata": {
    "colab": {
      "provenance": [],
      "toc_visible": true
    },
    "kernelspec": {
      "name": "python3",
      "display_name": "Python 3"
    },
    "language_info": {
      "name": "python"
    }
  },
  "cells": [
    {
      "cell_type": "markdown",
      "source": [
        "FNU Krithika Jain       G01462514        minerUsername: fkrithik"
      ],
      "metadata": {
        "id": "-rLQNnEvWInf"
      }
    },
    {
      "cell_type": "code",
      "execution_count": 32,
      "metadata": {
        "id": "YKLImU-Yq9nR"
      },
      "outputs": [],
      "source": [
        "# imported all the necessary libraries\n",
        "import numpy as np\n",
        "import re\n",
        "import nltk\n",
        "from nltk.corpus import stopwords\n",
        "from sklearn.feature_extraction.text import TfidfVectorizer\n",
        "from sklearn.model_selection import train_test_split\n",
        "from collections import Counter\n",
        "from sklearn.metrics import accuracy_score\n",
        "import matplotlib.pyplot as plt\n",
        "from nltk.stem import WordNetLemmatizer, PorterStemmer\n",
        "from nltk.tokenize import word_tokenize\n",
        "from sklearn.neighbors import KNeighborsClassifier\n",
        "from sklearn.metrics import accuracy_score"
      ]
    },
    {
      "cell_type": "code",
      "source": [
        "#loading and reading the train file and splitting them into labels and text list\n",
        "train_filepath = '/content/train_new.txt'\n",
        "with open(train_filepath,\"r\") as f1:\n",
        "  train_lines=f1.readlines()\n",
        "\n",
        "labels = [int(s.split(\"\\t\",1)[0]) for s in train_lines]\n",
        "text = [s.split(\"\\t\",1)[1] for s in train_lines]\n",
        "\n",
        "#loading and reading the test data\n",
        "test_filepath = '/content/test_new.txt'\n",
        "with open(test_filepath,\"r\") as f2:\n",
        "  test_lines=f2.readlines()\n",
        "\n",
        "#loading the ground truth file and storing them as a list\n",
        "groundtruth_file ='/content/train_new_ground_truth.txt'\n",
        "with open(groundtruth_file, \"r\") as f3:\n",
        "  groundlines = f3.readlines()\n",
        "true_labels = [int(line.strip()) for line in groundlines]\n",
        "\n",
        "# printing to test\n",
        "print(labels[3])\n",
        "print(text[45])\n",
        "print(test_lines[0])"
      ],
      "metadata": {
        "colab": {
          "base_uri": "https://localhost:8080/"
        },
        "id": "v8EsslPUAe40",
        "outputId": "54294b6b-6297-4b0b-db3c-f8135274368a"
      },
      "execution_count": 33,
      "outputs": [
        {
          "output_type": "stream",
          "name": "stdout",
          "text": [
            "-1\n",
            "Wow...OK. So, after reading the little feud on here, I decided I had to see this movie for myself. This movie is HORRIBLE. I stopped watching it. I strongly recommend cleaning a closet instead of watching this movie, you'll be more spooked/entertained.<br /><br />It's low budget with bad acting.<br /><br />Whoever is giving this movie 10s is completely incorrect and should be disregarded.<br /><br />I am in no way connected to any of the other reviewers.<br /><br />Simply put, this movie is not worth watching.<br /><br />Very, very BAD MOVIE. #EOF\n",
            "\n",
            "This is a very low budget film, set in one location in a valley shielded by the effects of radiation. The cast, an older man and daughter, a handsome visitor, a couple (a tough buy and gal), a drifter, a donkey and a radiation affected man, interact during the after effects of a nuclear blast. Added to this is an entity watching the women take a bath.<br /><br />They all have guns, some of them get shot, some of them are told to have children, others are murdered and others just drift away and, well this is the movie. Harvey Cormann's first film, it shows a certain simplicity in movie making. To avoid expensive sets, actors go through curtains to enter and exit the house (ie the studio). The location shots filmed in the hills near Hollywood are the backdrop.<br /><br />I would not say this is worth going out of your way to see, but interesting to see how movies with human subjects were made in the 50s. #EOF\n",
            "\n"
          ]
        }
      ]
    },
    {
      "cell_type": "code",
      "source": [
        "nltk.download('stopwords')\n",
        "nltk.download('punkt')\n",
        "nltk.download('wordnet')"
      ],
      "metadata": {
        "colab": {
          "base_uri": "https://localhost:8080/"
        },
        "id": "unE79NvLuaoB",
        "outputId": "10590ffc-bdec-4a4e-dc2f-912292f92acf"
      },
      "execution_count": 34,
      "outputs": [
        {
          "output_type": "stream",
          "name": "stderr",
          "text": [
            "[nltk_data] Downloading package stopwords to /root/nltk_data...\n",
            "[nltk_data]   Package stopwords is already up-to-date!\n",
            "[nltk_data] Downloading package punkt to /root/nltk_data...\n",
            "[nltk_data]   Package punkt is already up-to-date!\n",
            "[nltk_data] Downloading package wordnet to /root/nltk_data...\n",
            "[nltk_data]   Package wordnet is already up-to-date!\n"
          ]
        },
        {
          "output_type": "execute_result",
          "data": {
            "text/plain": [
              "True"
            ]
          },
          "metadata": {},
          "execution_count": 34
        }
      ]
    },
    {
      "cell_type": "code",
      "source": [
        "#Data preprocessing of datasets\n",
        "def preprocessing(rawdata):\n",
        "  reviews=[]\n",
        "  stemmer = PorterStemmer()\n",
        "  lemmatizer = WordNetLemmatizer()\n",
        "  stop = set(stopwords.words(\"english\"))\n",
        "  for review in rawdata:\n",
        "    notags = re.sub('(<[\\w\\s]*/?>)',\"\",review) #removed html tags\n",
        "    onlytext = re.sub(\"[^a-zA-Z]\",\" \",notags) #removed the non-alphabet characters\n",
        "    ele = word_tokenize(onlytext.lower()) #tokenized and converted to lower case\n",
        "    filtered_words =[word for word in ele if word not in stop and len(word)>3] #removed stop words and words that have length less than 3\n",
        "    lemmatized_words = [lemmatizer.lemmatize(word) for word in filtered_words] #performed lemmatization\n",
        "    stemmed_words = [stemmer.stem(word) for word in lemmatized_words] #stemmed the words\n",
        "    reviews.append(' '.join(filtered_words)) #appended them into a list\n",
        "  return reviews\n"
      ],
      "metadata": {
        "id": "PCCFti_yzp27"
      },
      "execution_count": 35,
      "outputs": []
    },
    {
      "cell_type": "code",
      "source": [
        "#cleaning of train and test datasets\n",
        "cleanTrain= preprocessing(text)\n",
        "cleanTest = preprocessing(test_lines)\n",
        "\n",
        "# printing to test\n",
        "print(cleanTrain[2])\n",
        "print(cleanTest[2])"
      ],
      "metadata": {
        "colab": {
          "base_uri": "https://localhost:8080/"
        },
        "id": "iNL1jcHEtWD0",
        "outputId": "08238841-e15c-44f4-afbc-d980bfed2422"
      },
      "execution_count": 36,
      "outputs": [
        {
          "output_type": "stream",
          "name": "stdout",
          "text": [
            "released thought profane films ever made however thanks martin scorcese filmmakers like mainline films worse language wise pretty brutal assault ears take ridiculous first minutes alone heard half dozen usage lord name vain plus untold number words wonder many people walked theater watching surprisingly feature actors included jennifer jason leigh burt young jerry orbach rikki lake since film stephen lang seems improved image least playing godly stonewall jackson gods generals lang role opposite perhaps worst trashy person film character falls love transvestite film depressing gloomy semi pornographic repulsive adjectives people used even liberal critics describing story painted even worse novel course better known critics extreme libs praised movie however ones critics disgusted well almost paying public unbelievable anyone could praise filth garbage like trust good likable characters entire movie mean sick film worst modern unless enjoy seeing child abuse drug abuse teen prostitutes straight hours nothing atrocities plain evil people thanks\n",
            "recently purchased heard like robert carlyle obviously movie going hollywood blockbuster special effects saying though special effects decent enough acting fine also found movie enjoyable regret buying almost hours long right length type movie expect thrilling explosive action beginning though fairly well balanced movie decent enough storyline\n"
          ]
        }
      ]
    },
    {
      "cell_type": "code",
      "source": [
        "#Feature engineering by initiaizing the TF-IDF Vectorizer with customised parameters\n",
        "tfidf_vector = TfidfVectorizer(max_features=10000,min_df=2,max_df=0.95)\n",
        "Xtrain_tfidf = tfidf_vector.fit_transform(cleanTrain)\n",
        "Xtest_tfidf = tfidf_vector.transform(cleanTest)\n",
        "\n",
        "#printing to check the dimensions\n",
        "print(type(Xtrain_tfidf),Xtrain_tfidf.shape)\n",
        "print(type(Xtest_tfidf),Xtest_tfidf.shape)\n"
      ],
      "metadata": {
        "id": "t6yJw0kaf5z6",
        "colab": {
          "base_uri": "https://localhost:8080/"
        },
        "outputId": "35fec842-84dc-4e72-fec1-bf6634f1a0e8"
      },
      "execution_count": 37,
      "outputs": [
        {
          "output_type": "stream",
          "name": "stdout",
          "text": [
            "<class 'scipy.sparse._csr.csr_matrix'> (25000, 10000)\n",
            "<class 'scipy.sparse._csr.csr_matrix'> (25000, 10000)\n"
          ]
        }
      ]
    },
    {
      "cell_type": "code",
      "source": [
        "# splitting the data into training and validation sets in the ratio 80-20\n",
        "X_train, X_val, y_train, y_val = train_test_split(Xtrain_tfidf, labels, test_size=0.3, random_state=42)"
      ],
      "metadata": {
        "id": "6QMYbTpFINtR"
      },
      "execution_count": 38,
      "outputs": []
    },
    {
      "cell_type": "code",
      "source": [
        "# training the knn classifer for k=125\n",
        "knn_class = KNeighborsClassifier(n_neighbors=125,metric='cosine')\n",
        "knn_class.fit(X_train,y_train)\n",
        "\n",
        "#predicting validation data\n",
        "val_predictions = knn_class.predict(X_val)\n",
        "accuracy= accuracy_score(y_val,val_predictions)\n",
        "print(\"validation accuracy\",accuracy)\n",
        "\n",
        "#predicting test data with ground truth values\n",
        "test_predictions = knn_class.predict(Xtest_tfidf)\n",
        "test_accuracy = accuracy_score(true_labels, test_predictions)\n",
        "print(\"Test Accuracy:\", test_accuracy)"
      ],
      "metadata": {
        "colab": {
          "base_uri": "https://localhost:8080/"
        },
        "id": "Nzu_0h9iLi_7",
        "outputId": "8073da7b-67ba-46a4-8d92-0b4a3bdbc21a"
      },
      "execution_count": 44,
      "outputs": [
        {
          "output_type": "stream",
          "name": "stdout",
          "text": [
            "validation accuracy 0.814\n",
            "Test Accuracy: 0.50032\n"
          ]
        }
      ]
    },
    {
      "cell_type": "code",
      "source": [
        "# implementing the knn classifer again by reducing the dimensionality using svd\n",
        "from sklearn.neighbors import KNeighborsClassifier\n",
        "from sklearn.metrics import accuracy_score\n",
        "from sklearn.decomposition import TruncatedSVD\n",
        "\n",
        "svd = TruncatedSVD(n_components=100)\n",
        "X_train_svd = svd.fit_transform(X_train)\n",
        "X_val_svd = svd.transform(X_val)\n",
        "X_test_svd = svd.transform(Xtest_tfidf)\n",
        "\n",
        "# training the knn classifer for k=125\n",
        "knn_class = KNeighborsClassifier(n_neighbors=157,metric='cosine')\n",
        "knn_class.fit(X_train_svd,y_train)\n",
        "\n",
        "#predicting validation data\n",
        "val_predictions = knn_class.predict(X_val_svd)\n",
        "accuracy= accuracy_score(y_val,val_predictions)\n",
        "print(\"validation accuracy\",accuracy)\n",
        "\n",
        "#predicting test data with ground truth values\n",
        "test_predictions = knn_class.predict(X_test_svd)\n",
        "test_accuracy = accuracy_score(true_labels, test_predictions)\n",
        "print(\"Test Accuracy:\", test_accuracy)"
      ],
      "metadata": {
        "id": "0Ku6-wFW8Ppi",
        "colab": {
          "base_uri": "https://localhost:8080/"
        },
        "outputId": "8dd9f768-c09d-4166-ff20-c2f2dc87655c"
      },
      "execution_count": 42,
      "outputs": [
        {
          "output_type": "stream",
          "name": "stdout",
          "text": [
            "validation accuracy 0.7957333333333333\n",
            "Test Accuracy: 0.49856\n"
          ]
        }
      ]
    },
    {
      "cell_type": "code",
      "source": [
        "# Writing the test predictions to a file in the required format\n",
        "test_predictions_file = '/content/test_predictions.txt'\n",
        "with open(test_predictions_file, \"w\") as f:\n",
        "    for prediction in test_predictions:\n",
        "        f.write(f\"{prediction}\\n\")"
      ],
      "metadata": {
        "id": "H-XCqomUIS19"
      },
      "execution_count": 45,
      "outputs": []
    },
    {
      "cell_type": "markdown",
      "source": [
        "I have build my own knn classifier here to check for the appropriate value of k, using cosine distance metric because of it's use in text data, high dimenionality and comparatively faster runtime."
      ],
      "metadata": {
        "id": "3aBG7zd3KUnw"
      }
    },
    {
      "cell_type": "code",
      "source": [
        "#loading and reading the train file and splitting them into labels and text list\n",
        "train_filepath = '/content/train_new.txt'\n",
        "with open(train_filepath,\"r\") as f1:\n",
        "  train_lines=f1.readlines()\n",
        "\n",
        "labels = [int(s.split(\"\\t\",1)[0]) for s in train_lines]\n",
        "features = [s.split(\"\\t\",1)[1] for s in train_lines]\n",
        "\n",
        "#loading and reading the test data\n",
        "test_filepath = '/content/test_new.txt'\n",
        "with open(test_filepath,\"r\") as f2:\n",
        "  test_lines=f2.readlines()\n",
        "\n",
        "class KNNclassify:\n",
        "  def __init__(self,kval,similarity='similarity') :\n",
        "    self.kval=kval\n",
        "    self.similarity = similarity\n",
        "    self.accuracies=[]\n",
        "\n",
        "  # def euclidean_dist(self,a,b):\n",
        "  #   return np.sqrt(np.sum(np.square(np.subtract(a,b))))\n",
        "\n",
        "  def cosine_similarity(self,a,b):\n",
        "    return np.dot(a,b)/(np.linalg.norm(a)*np.linalg.norm(b))\n",
        "\n",
        "  def k_nn_classification(self, X_train, y_train, X_val, k ):\n",
        "    predictions = []\n",
        "\n",
        "    for test_instance in X_val:\n",
        "        similarities = [self.cosine_similarity(test_instance, train_instance) for train_instance in X_train]\n",
        "        nearestNeighbors = np.argsort(similarities)[::-1][:k]\n",
        "        neighbor_labels = [y_train[i] for i in nearestNeighbors]\n",
        "        predicted_label = Counter(neighbor_labels).most_common(1)[0][0]\n",
        "        predictions.append(predicted_label)\n",
        "    return predictions\n",
        "\n",
        "  def evaluate(self, y_true, y_pred):\n",
        "    acc = accuracy_score(y_true,y_pred)\n",
        "    return acc\n",
        "\n",
        "  def holdout(self, X, y, test_size=0.2, random_state=42):\n",
        "    # splitting the data into training and validation sets\n",
        "    X_train, X_val, y_train, y_val = train_test_split(features, labels, test_size=test_size, random_state=random_state)\n",
        "    for k in self.kval:\n",
        "       y_pred = self.k_nn_classification(X_train, y_train, X_val, k)\n",
        "       accuracy = self.evaluate(y_val, y_pred)\n",
        "       self.accuracies.append(accuracy)\n",
        "\n",
        "  def plot_results(self):\n",
        "        plt.plot(self.kval, self.accuracies, marker='o')\n",
        "        plt.title(f'k-NN Model Performance ({self.similarity.capitalize()} Similarity)')\n",
        "        plt.xlabel('Number of Neighbors (k)')\n",
        "        plt.ylabel('Validation Accuracy')\n",
        "        plt.grid(True)\n",
        "        plt.show()\n",
        "\n",
        "if __name__==\"__main__\":\n",
        "  kval=[1,5,7,9]\n",
        "  knn_cosine = KNNclassify(kval,similarity='cosine')\n",
        "\n",
        "  knn_cosine.holdout(X_train,y_train)\n",
        "  knn_cosine.plot_results()"
      ],
      "metadata": {
        "colab": {
          "base_uri": "https://localhost:8080/",
          "height": 472
        },
        "id": "fQNXngi6EfW3",
        "outputId": "e4f5c151-34f2-4782-b4b9-593e75d9e3e1"
      },
      "execution_count": null,
      "outputs": [
        {
          "output_type": "display_data",
          "data": {
            "text/plain": [
              "<Figure size 640x480 with 1 Axes>"
            ],
            "image/png": "[encoded data removed]"
          },
          "metadata": {}
        }
      ]
    }
  ]
}